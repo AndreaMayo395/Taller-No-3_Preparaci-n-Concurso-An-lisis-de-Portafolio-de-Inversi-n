{
  "cells": [
    {
      "cell_type": "markdown",
      "metadata": {
        "id": "view-in-github",
        "colab_type": "text"
      },
      "source": [
        "<a href=\"https://colab.research.google.com/github/AndreaMayo395/Taller-No-3_Preparaci-n-Concurso-An-lisis-de-Portafolio-de-Inversi-n/blob/main/Copia_de_Taller_Analisis_Portafolio.ipynb\" target=\"_parent\"><img src=\"https://colab.research.google.com/assets/colab-badge.svg\" alt=\"Open In Colab\"/></a>"
      ]
    },
    {
      "cell_type": "markdown",
      "metadata": {
        "id": "zCsrd91uxbIc"
      },
      "source": [
        "# 📊 Taller - Preparación Concurso: Análisis de Portafolio de Inversión\n",
        "\n",
        "Este Notebook servirá como guía para la primera actividad del concurso.\n",
        "\n",
        "**Objetivo:**\n",
        "- Investigar qué es un **análisis de portafolio de inversión**.\n",
        "- Plantear **tres propuestas distintas** de análisis (cada grupo puede ser creativo).\n",
        "- Seleccionar la propuesta que aplicarían si en el concurso reciben 1 o 2 acciones.\n",
        "- Definir con qué herramientas trabajarían (Python, Streamlit, GitHub, Colab).\n",
        "\n",
        "---"
      ],
      "id": "zCsrd91uxbIc"
    },
    {
      "cell_type": "markdown",
      "metadata": {
        "id": "jbBkIG15xbIf"
      },
      "source": [
        "# 1. Integrantes del Grupo 👥\n",
        "Escriban aquí los nombres completos de los integrantes del grupo y el nombre del grupo.\n",
        "\n",
        "```\n",
        "Nombre del grupo: Investigación de los tipos de inversionistas  (conservador, moderado, agresivo)\n",
        "\n",
        "Integrante:\n",
        "1. Nidia Andrea Mayorga Agudelo\n",
        "\n",
        "```\n"
      ],
      "id": "jbBkIG15xbIf"
    },
    {
      "cell_type": "markdown",
      "metadata": {
        "id": "rZnxEW90xbIg"
      },
      "source": [
        "## 2. ¿Qué es un Análisis de Portafolio de Inversión? 📚\n",
        "El *análisis de portafolio de inversión* es el estudio del conjunto de activos financieros que posee una persona o institución con el fin de evaluar su *rentabilidad, riesgo y eficiencia. No se enfoca en cada inversión por separado, sino en cómo interactúan entre sí, buscando la mejor combinación posible para **maximizar el rendimiento y minimizar el riesgo, según la **Teoría Moderna de Portafolios* de Harry Markowitz.\n",
        "\n",
        "Se utiliza antes de invertir, durante la gestión de las inversiones y de forma periódica para ajustar o *rebalancear* el portafolio. Sirve para *medir el desempeño, optimizar la **diversificación, y apoyar la **toma de decisiones* sobre qué activos mantener, comprar o vender, de acuerdo con los objetivos y el perfil del inversionista.\n",
        "\n",
        "Lo aplican inversionistas individuales, gestores de fondos, instituciones financieras y analistas que buscan administrar capital de manera eficiente. Entre sus principales elementos están la *rentabilidad esperada, el **riesgo (varianza), la **correlación entre activos, la **frontera eficiente* y el *ratio de Sharpe*, que mide la rentabilidad por unidad de riesgo.\n",
        "\n",
        "En resumen, el análisis de portafolio permite *equilibrar riesgo y rentabilidad* mediante decisiones racionales basadas en datos, construyendo carteras sólidas, diversificadas y alineadas con los objetivos financieros del inversionista.\n",
        "\n",
        "\n",
        "\n"
      ],
      "id": "rZnxEW90xbIg"
    },
    {
      "cell_type": "markdown",
      "metadata": {
        "id": "_SHf8BqaxbIg"
      },
      "source": [
        "## 3. Investigación: Tipos de Análisis de Portafolio 🔍\n",
        "\n",
        "**Propuesta 1:**  \n",
        "\n",
        "**Análisis de diversificación**\n",
        "\n",
        "Examina cómo se combinan los activos dentro del portafolio para reducir el riesgo.\n",
        "\n",
        "* Considera las *correlaciones* entre activos (si suben o bajan al mismo tiempo).\n",
        "* Un portafolio bien diversificado incluye activos con baja o nula correlación entre sí.\n",
        "\n",
        "El objetivo principal, se basa en la busqueda de la minimización del riesgo sin sacrificar demasiado rendimiento.\n",
        "\n",
        "\n",
        "**Propuesta 2:**  \n",
        "\n",
        "**Análisis de estructura o composición**\n",
        "\n",
        "Examina la distribución del portafolio según:\n",
        "\n",
        "* *Clase de activo* (acciones, bonos, efectivo, etc.)\n",
        "* *Sector económico* (tecnología, energía, salud, etc.)\n",
        "* *Región geográfica* o *plazo de inversión*\n",
        "\n",
        "Su principal finalidad es verificar si el portafolio está alineado con el perfil y los objetivos del inversionista.\n",
        "\n",
        "\n",
        "**Propuesta 3:**  \n",
        "\n",
        "**Análisis fundamental y técnico del portafolio**\n",
        "\n",
        "* El *análisis fundamental* estudia los factores económicos y financieros que afectan el valor de los activos (como utilidades, PIB, inflación, tasas de interés).\n",
        "* El *análisis técnico* se basa en el comportamiento histórico de los precios y volúmenes para identificar tendencias y oportunidades.\n",
        "\n",
        "Tiene como finalidad decidir qué activos incorporar o retirar del portafolio."
      ],
      "id": "_SHf8BqaxbIg"
    },
    {
      "cell_type": "markdown",
      "metadata": {
        "id": "5Xs2miFkxbIh"
      },
      "source": [
        "## 4. Selección de la Propuesta ✅\n",
        "La propuesta elegida es *Análisis de estructura o composición del portafolio*\n",
        "\n",
        "En este análisis examina cómo se distribuyen los activos (acciones, bonos, etc) y cómo esta combinación afecta el riesgo y la rentabilidad. Se utiliza al crear o revisar un portafolio para asegurar que esté alineado con los objetivos y perfil del inversionista. Permite identificar concentraciones excesivas y promover la *diversificación.\n"
      ],
      "id": "5Xs2miFkxbIh"
    },
    {
      "cell_type": "markdown",
      "metadata": {
        "id": "1JBYaUV0xbIh"
      },
      "source": [
        "## 5. Herramientas de Trabajo 🛠️\n",
        "Las herramientas con las que se planea trabajar son:\n",
        "\n",
        "- [x] Python en Google Colab (Editar código)  \n",
        "- [x] GitHub (Versionar y compartir el proyecto)  \n",
        "- [x] Streamlit (App Web)\n"
      ],
      "id": "1JBYaUV0xbIh"
    },
    {
      "cell_type": "markdown",
      "metadata": {
        "id": "mEWWTeUhxbIh"
      },
      "source": [
        "## 6. Referencias y Fuentes 📖\n",
        "\n",
        "✍️ *Fuentes utilizadas:*  \n",
        "1. *Markowitz, H. (1952).* Portfolio Selection. The Journal of Finance, 7(1), 77–91.\n",
        "   → Fuente original de la *Teoría Moderna de Portafolios*, base conceptual de todos los análisis de riesgo, rentabilidad y diversificación.\n",
        "\n",
        "2. *Sharpe, W. F. (1966).* Mutual Fund Performance. The Journal of Business, 39(1), 119–138.\n",
        "   → Introduce el *Ratio de Sharpe*, clave para evaluar la eficiencia y el desempeño de un portafolio.\n",
        "\n",
        "3. *Bodie, Z., Kane, A., & Marcus, A. J. (2021).* Investments (12th ed.). McGraw-Hill Education.\n",
        "   → Libro de referencia universitaria sobre administración de inversiones, análisis de riesgo, estructura de portafolios y diversificación.\n",
        "\n",
        "4. *Elton, E. J., Gruber, M. J., Brown, S. J., & Goetzmann, W. N. (2014).* Modern Portfolio Theory and Investment Analysis (9th ed.). John Wiley & Sons.\n",
        "   → Texto avanzado que explica los distintos *tipos de análisis de portafolios* (rentabilidad, riesgo, eficiencia, composición, desempeño, etc.).\n",
        "\n",
        "5. *Damodaran, A. (2012).* Investment Valuation: Tools and Techniques for Determining the Value of Any Asset (3rd ed.). Wiley Finance.\n",
        "   → Fuente clave para el *análisis financiero* y la valoración de activos dentro de un portafolio.\n",
        "\n",
        "6. *CFA Institute (2023).* CFA Program Curriculum: Portfolio Management and Wealth Planning.\n",
        "   → Material profesional que resume las *mejores prácticas internacionales* para análisis y gestión de portafolios de inversión.\n",
        "\n",
        "7. *Banco Mundial (World Bank) – Financial Sector Reports.*\n",
        "   → Proporciona guías sobre *gestión de riesgos financieros* y diversificación para instituciones y fondos.\n",
        "   🔗 [https://www.worldbank.org](https://www.worldbank.org)\n",
        "\n",
        "8. *Investopedia.* “Portfolio Analysis,” “Modern Portfolio Theory,” y “Portfolio Diversification.”\n",
        "   → Recurso educativo reconocido que explica conceptos financieros de forma clara y actualizada.\n",
        "   🔗 [https://www.investopedia.com](https://www.investopedia.com)"
      ],
      "id": "mEWWTeUhxbIh"
    },
    {
      "cell_type": "code",
      "source": [],
      "metadata": {
        "id": "N3DUYIUY37FC"
      },
      "id": "N3DUYIUY37FC",
      "execution_count": null,
      "outputs": []
    }
  ],
  "metadata": {
    "kernelspec": {
      "display_name": "Python 3",
      "language": "python",
      "name": "python3"
    },
    "language_info": {
      "name": "python",
      "version": "3.9"
    },
    "colab": {
      "provenance": [],
      "include_colab_link": true
    }
  },
  "nbformat": 4,
  "nbformat_minor": 5
}
